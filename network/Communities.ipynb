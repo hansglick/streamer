{
 "cells": [
  {
   "cell_type": "code",
   "execution_count": 1,
   "metadata": {},
   "outputs": [],
   "source": [
    "import pandas as pd\n",
    "import json\n",
    "import pickle\n",
    "import os\n",
    "import itertools\n",
    "from ast import literal_eval\n",
    "import numpy as np\n",
    "import sys\n",
    "from datetime import datetime\n",
    "from scipy import stats\n",
    "from IPython.display import clear_output, display\n",
    "import subprocess\n",
    "from datetime import datetime\n",
    "pd.options.display.float_format = '{:.0f}'.format"
   ]
  },
  {
   "cell_type": "code",
   "execution_count": 2,
   "metadata": {},
   "outputs": [],
   "source": [
    "import pandas as pd\n",
    "import numpy as np\n",
    "from spacy.lang.fr.stop_words import STOP_WORDS as fr_stop\n",
    "french_stopwords = list(fr_stop)\n",
    "from scipy import stats\n",
    "import math\n",
    "import string\n",
    "import igraph as ig"
   ]
  },
  {
   "cell_type": "code",
   "execution_count": 3,
   "metadata": {},
   "outputs": [
    {
     "name": "stdout",
     "output_type": "stream",
     "text": [
      "\n"
     ]
    }
   ],
   "source": [
    "sys.path.append(\"/home/osboxes/proj/streamer/\")\n",
    "from fun import *\n",
    "\n",
    "print(\"\")"
   ]
  },
  {
   "cell_type": "code",
   "execution_count": 4,
   "metadata": {},
   "outputs": [],
   "source": [
    "#Functions"
   ]
  },
  {
   "cell_type": "code",
   "execution_count": 5,
   "metadata": {},
   "outputs": [],
   "source": [
    "def BuildGraphFrom2DF(FinalInf,graphdf):\n",
    "\n",
    "    \"\"\"\n",
    "    Input : un dataframe des nodes\n",
    "    Input : un dataframe des links\n",
    "    Output : un objet graph igraph\n",
    "    \"\"\"\n",
    "    \n",
    "    g = ig.Graph(directed=False)\n",
    "    nodesids = FinalInf.GRAPHID.values\n",
    "    g.add_vertices(nodesids)\n",
    "\n",
    "    g.vs[\"AUTHORDESCRIPTION\"] = FinalInf.AUTHORDESCRIPTION.tolist()\n",
    "    g.vs[\"AUTHORFNAME\"] = FinalInf.AUTHORFNAME.tolist()\n",
    "    g.vs[\"AUTHORID\"] = FinalInf.AUTHORID.tolist()\n",
    "    g.vs[\"AUTHORNAME\"] = FinalInf.AUTHORNAME.tolist()\n",
    "    g.vs[\"AUTHORFOLLOWERS\"] = FinalInf.AUTHORFOLLOWERS.tolist()\n",
    "\n",
    "    edgeslist = graphdf[[\"GRAPHIDA\",\"GRAPHIDB\"]].values.tolist()\n",
    "    g.add_edges(edgeslist)\n",
    "    g.es[\"weight\"] = graphdf.f.tolist()\n",
    "\n",
    "    return g\n",
    "\n",
    "\n",
    "def DeleteSomeNodes(g,AttributeName,ThresholdFollowersInf,ThresholdFollowersSup):\n",
    "\n",
    "    \"\"\"\n",
    "    Input : un objet igraph graph\n",
    "    Input : borne inferieur et superieur\n",
    "    Input : Attribute Name\n",
    "    Output : un objet igraph graph\n",
    "    \"\"\"\n",
    "    \n",
    "    \n",
    "    to_delete_ids = [node for node in g.vs if node[AttributeName]<ThresholdFollowersInf]\n",
    "    g.delete_vertices(to_delete_ids)\n",
    "\n",
    "    to_delete_ids = [node for node in g.vs if node[AttributeName]>ThresholdFollowersSup]\n",
    "    g.delete_vertices(to_delete_ids)\n",
    "\n",
    "    return g"
   ]
  },
  {
   "cell_type": "code",
   "execution_count": 6,
   "metadata": {},
   "outputs": [],
   "source": [
    "def DefineFirstTm(x):\n",
    "\n",
    "    x.sort(key = lambda a : a[1], reverse = False)\n",
    "    if len(x)>0:\n",
    "        firsttm = x[0][1]\n",
    "    else:\n",
    "        firsttm = None\n",
    "\n",
    "    return firsttm\n",
    "\n",
    "def ExtractNextTuple(firsttm,x,tolerance = 100):\n",
    "    \n",
    "    if firsttm is None:\n",
    "        return None    \n",
    "    \n",
    "    x.sort(key = lambda a : a[1], reverse = False)\n",
    "    ecart = np.abs(firsttm - np.array([item[0] for item in x]))\n",
    "    idinteresting = np.argmin(ecart)\n",
    "    \n",
    "    if idinteresting+1==len(x):\n",
    "        return None\n",
    "    \n",
    "    if ecart[idinteresting]>tolerance:\n",
    "        solution = None\n",
    "    else:\n",
    "        solution = x[idinteresting]\n",
    "\n",
    "    return solution\n",
    "\n",
    "\n",
    "def ExtractCompletePeriods(x,tolerancevalue):\n",
    "    \n",
    "    \"\"\"\n",
    "    Input : liste de tuples représentant les bornes inf et sup de périodes\n",
    "    Output : Liste de périodes complètes\n",
    "    \"\"\"\n",
    "\n",
    "    firsttm = DefineFirstTm(x)\n",
    "    L = []\n",
    "    NextTuple = 0\n",
    "\n",
    "    while NextTuple is not None:\n",
    "        NextTuple = ExtractNextTuple(firsttm,x,tolerancevalue)\n",
    "        if NextTuple is not None:\n",
    "            firsttm = NextTuple[1]\n",
    "            L.append(NextTuple)\n",
    "\n",
    "    return L"
   ]
  },
  {
   "cell_type": "code",
   "execution_count": 7,
   "metadata": {},
   "outputs": [],
   "source": []
  },
  {
   "cell_type": "code",
   "execution_count": 8,
   "metadata": {},
   "outputs": [],
   "source": []
  },
  {
   "cell_type": "code",
   "execution_count": 9,
   "metadata": {},
   "outputs": [],
   "source": [
    "#Load and clean"
   ]
  },
  {
   "cell_type": "code",
   "execution_count": 507,
   "metadata": {},
   "outputs": [],
   "source": [
    "graphdf = pd.read_csv(\"graph1581156942.csv\")\n",
    "graphdf.sort_values(by=\"f\",ascending=False,inplace=True)\n",
    "nodesids = np.unique(np.hstack((graphdf.a.values,graphdf.b.values)))\n",
    "\n",
    "FinalInf = PickleLoad(\"FinalInf.pkl\")\n",
    "FinalInf = FinalInf[FinalInf.AUTHORID.isin(nodesids)]\n",
    "FinalInf = FinalInf.reset_index(drop=True).reset_index()\n",
    "FinalInf.rename(columns = {\"index\":\"GRAPHID\"},inplace=True)\n",
    "\n",
    "graphdf = graphdf.merge(FinalInf[[\"GRAPHID\",\"AUTHORID\"]],how=\"left\",left_on=\"a\",right_on=\"AUTHORID\").rename(columns={\"GRAPHID\":\"GRAPHIDA\"})\n",
    "graphdf = graphdf.merge(FinalInf[[\"GRAPHID\",\"AUTHORID\"]],how=\"left\",left_on=\"b\",right_on=\"AUTHORID\").rename(columns={\"GRAPHID\":\"GRAPHIDB\"})\n",
    "graphdf.drop(columns=[\"AUTHORID_x\",\"AUTHORID_y\"],inplace = True)"
   ]
  },
  {
   "cell_type": "code",
   "execution_count": 508,
   "metadata": {},
   "outputs": [],
   "source": [
    "#Graph"
   ]
  },
  {
   "cell_type": "code",
   "execution_count": 544,
   "metadata": {},
   "outputs": [],
   "source": [
    "ThresholdFollowersInf = 20000\n",
    "ThresholdFollowersSup = 80000\n",
    "AttributeName = \"AUTHORFOLLOWERS\"\n",
    "g = BuildGraphFrom2DF(FinalInf,graphdf)\n",
    "g = DeleteSomeNodes(g,AttributeName,ThresholdFollowersInf,ThresholdFollowersSup)\n",
    "todelete = [node for node in g.vs if node.degree()==0]\n",
    "g.delete_vertices(todelete)\n",
    "todelete = [edge for edge in g.es if edge[\"weight\"]>4]\n",
    "g.delete_edges(todelete)"
   ]
  },
  {
   "cell_type": "code",
   "execution_count": 545,
   "metadata": {},
   "outputs": [],
   "source": [
    "clustering = g.community_multilevel(weights=\"weight\")"
   ]
  },
  {
   "cell_type": "code",
   "execution_count": 590,
   "metadata": {},
   "outputs": [],
   "source": [
    "x = [(0,10),\n",
    " (2,12),\n",
    " (4,14),\n",
    " (6,16),\n",
    " (8,18),\n",
    " (10,20),\n",
    " (12,22),\n",
    " (14,24),\n",
    " (16,26),\n",
    " (18,28),\n",
    " (20,30),\n",
    " (22,32)]"
   ]
  },
  {
   "cell_type": "code",
   "execution_count": null,
   "metadata": {},
   "outputs": [],
   "source": [
    "CompletePeriods = ExtractCompletePeriods(x,tolerancevalue)"
   ]
  },
  {
   "cell_type": "code",
   "execution_count": 638,
   "metadata": {},
   "outputs": [],
   "source": []
  },
  {
   "cell_type": "code",
   "execution_count": 639,
   "metadata": {},
   "outputs": [],
   "source": []
  },
  {
   "cell_type": "code",
   "execution_count": 661,
   "metadata": {},
   "outputs": [],
   "source": []
  }
 ],
 "metadata": {
  "kernelspec": {
   "display_name": "twitter",
   "language": "python",
   "name": "twitter"
  },
  "language_info": {
   "codemirror_mode": {
    "name": "ipython",
    "version": 3
   },
   "file_extension": ".py",
   "mimetype": "text/x-python",
   "name": "python",
   "nbconvert_exporter": "python",
   "pygments_lexer": "ipython3",
   "version": "3.6.7"
  }
 },
 "nbformat": 4,
 "nbformat_minor": 2
}
