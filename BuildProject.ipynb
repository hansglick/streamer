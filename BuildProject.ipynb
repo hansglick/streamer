{
 "cells": [
  {
   "cell_type": "code",
   "execution_count": 3,
   "metadata": {},
   "outputs": [
    {
     "name": "stdout",
     "output_type": "stream",
     "text": [
      "The autoreload extension is already loaded. To reload it, use:\n",
      "  %reload_ext autoreload\n"
     ]
    }
   ],
   "source": [
    "import sys\n",
    "import os\n",
    "import json\n",
    "from shutil import copyfile\n",
    "import subprocess\n",
    "%load_ext autoreload\n",
    "%autoreload 2"
   ]
  },
  {
   "cell_type": "markdown",
   "metadata": {},
   "source": [
    "# Parameters"
   ]
  },
  {
   "cell_type": "code",
   "execution_count": 4,
   "metadata": {},
   "outputs": [],
   "source": [
    "KeyWordsList = [\"trump\",\"democrats\",\"republicans\",\"democrat\",\"republican\",\"elections\",\"congress\"]"
   ]
  },
  {
   "cell_type": "code",
   "execution_count": 5,
   "metadata": {},
   "outputs": [],
   "source": [
    "JupyterRoot = \"/home/osboxes/anaconda3/bin/jupyter\"\n",
    "PythonRoot = \"/home/osboxes/anaconda3/envs/twitter/bin/python\"\n",
    "Root = \"/home/osboxes/proj/streamer/\"\n",
    "LangList = ['en']\n",
    "FolderProject = \"trackUSA\"\n",
    "TrendingTopics = KeyWordsList\n",
    "AuthFilename = \"auth2.password\"\n",
    "TweetsFilename = \"tweets.data\"\n",
    "bassine_size = 3600*8\n",
    "bassine_recul = 3600*4\n",
    "TopTweetsProportion = 0.75\n",
    "StepSize = 3600*2\n",
    "WindowSize = 10*60\n",
    "TooInfrequentThreshold = 0.003\n",
    "TooFrequentThreshold = 1/3\n",
    "RemoveWordsPeriod = 86400\n",
    "GraphStepSize = 1*3600\n",
    "GraphWindowSize = 3600 * 6\n",
    "GraphTfidfSize = 3600 * 6\n",
    "FolderPRQ = \"PRQData\"\n",
    "\n",
    "DicConfig = {\"Root\" : Root,\n",
    "             \"LangList\" : LangList,\n",
    "             \"FolderProject\" : FolderProject,\n",
    "             \"TrendingTopics\" : TrendingTopics,\n",
    "             \"AuthFilename\" : AuthFilename,\n",
    "             \"TweetsFilename\":TweetsFilename,\n",
    "             \"JupyterRoot\":JupyterRoot,\n",
    "             \"PythonRoot\":PythonRoot,\n",
    "             \"bassine_size\":bassine_size,\n",
    "             \"bassine_recul\":bassine_recul,\n",
    "             \"TopTweetsProportion\":TopTweetsProportion,\n",
    "             \"StepSize\":StepSize,\n",
    "             \"WindowSize\":WindowSize,\n",
    "             \"TooInfrequentThreshold\":TooInfrequentThreshold ,\n",
    "             \"TooFrequentThreshold\":TooFrequentThreshold ,\n",
    "             \"RemoveWordsPeriod\":RemoveWordsPeriod,\n",
    "             \"GraphStepSize\" : GraphStepSize,\n",
    "             \"GraphWindowSize\" : GraphWindowSize,\n",
    "             \"GraphTfidfSize\" : GraphTfidfSize,\n",
    "             \"FolderPRQ\":FolderPRQ}\n",
    "\n",
    "sys.path.append(Root)\n",
    "from fun import *"
   ]
  },
  {
   "cell_type": "code",
   "execution_count": 6,
   "metadata": {},
   "outputs": [
    {
     "name": "stdout",
     "output_type": "stream",
     "text": [
      "['trump', 'democrats', 'republicans', 'democrat', 'republican', 'elections', 'congress']\n"
     ]
    }
   ],
   "source": [
    "CreateFolder(Root,FolderProject)"
   ]
  },
  {
   "cell_type": "code",
   "execution_count": 7,
   "metadata": {},
   "outputs": [],
   "source": [
    "SaveConfig(DicConfig,Root,FolderProject)"
   ]
  },
  {
   "cell_type": "code",
   "execution_count": 8,
   "metadata": {},
   "outputs": [],
   "source": [
    "StringScript = WriteStreamPythonString(Root,FolderProject)"
   ]
  },
  {
   "cell_type": "code",
   "execution_count": 9,
   "metadata": {},
   "outputs": [],
   "source": [
    "WriteStringToScript(StringScript,os.path.join(Root,FolderProject,\"RunTracking.py\"))"
   ]
  },
  {
   "cell_type": "code",
   "execution_count": 10,
   "metadata": {},
   "outputs": [],
   "source": [
    "BashScript = WriteStreamBashString(PythonRoot,TweetsFilename)"
   ]
  },
  {
   "cell_type": "code",
   "execution_count": 11,
   "metadata": {},
   "outputs": [],
   "source": [
    "WriteStringToScript(BashScript,os.path.join(Root,FolderProject,\"Run.sh\"))"
   ]
  },
  {
   "cell_type": "code",
   "execution_count": 12,
   "metadata": {},
   "outputs": [
    {
     "data": {
      "text/plain": [
       "0"
      ]
     },
     "execution_count": 12,
     "metadata": {},
     "output_type": "execute_result"
    }
   ],
   "source": [
    "a = \"chmod +x \"\n",
    "b = os.path.join(Root,FolderProject,\"Run.sh\")\n",
    "commandbash = a + b\n",
    "subprocess.call(commandbash,shell = True)"
   ]
  },
  {
   "cell_type": "code",
   "execution_count": 13,
   "metadata": {},
   "outputs": [],
   "source": [
    "z = \"cd \" + os.path.join(Root,FolderProject)\n",
    "a = ConvertAndRunScript(JupyterRoot,PythonRoot,Root,FolderProject,\"BuildBatch\")\n",
    "b = ConvertAndRunScript(JupyterRoot,PythonRoot,Root,FolderProject,\"BuildRef\")\n",
    "c = ConvertAndRunScript(JupyterRoot,PythonRoot,Root,FolderProject,\"BatchBest\")\n",
    "d = ConvertAndRunScript(JupyterRoot,PythonRoot,Root,FolderProject,\"Graph\")\n",
    "e = ConvertAndRunScript(JupyterRoot,PythonRoot,Root,FolderProject,\"ComputeTFIDF\")\n",
    "f = ConvertAndRunScript(JupyterRoot,PythonRoot,Root,FolderProject,\"Prerequisites\")\n",
    "\n",
    "StringScript = \"\\n\\n\".join([z,a,b,c,d,e,f])\n",
    "WriteStringToFile(StringScript,os.path.join(Root,FolderProject,\"UpRef.sh\"))"
   ]
  },
  {
   "cell_type": "code",
   "execution_count": 14,
   "metadata": {},
   "outputs": [
    {
     "data": {
      "text/plain": [
       "0"
      ]
     },
     "execution_count": 14,
     "metadata": {},
     "output_type": "execute_result"
    }
   ],
   "source": [
    "a = \"chmod +x \"\n",
    "b = os.path.join(Root,FolderProject,\"UpRef.sh\")\n",
    "commandbash = a + b\n",
    "subprocess.call(commandbash,shell = True)"
   ]
  },
  {
   "cell_type": "code",
   "execution_count": 15,
   "metadata": {},
   "outputs": [],
   "source": [
    "# Création du folderPRQ\n",
    "AbsoluteFolderPath = os.path.join(Root,FolderProject,FolderPRQ)\n",
    "if not os.path.exists(AbsoluteFolderPath):\n",
    "    os.makedirs(AbsoluteFolderPath)"
   ]
  },
  {
   "cell_type": "code",
   "execution_count": null,
   "metadata": {},
   "outputs": [],
   "source": []
  },
  {
   "cell_type": "code",
   "execution_count": null,
   "metadata": {},
   "outputs": [],
   "source": []
  },
  {
   "cell_type": "code",
   "execution_count": null,
   "metadata": {},
   "outputs": [],
   "source": []
  },
  {
   "cell_type": "code",
   "execution_count": null,
   "metadata": {},
   "outputs": [],
   "source": []
  },
  {
   "cell_type": "code",
   "execution_count": null,
   "metadata": {},
   "outputs": [],
   "source": []
  }
 ],
 "metadata": {
  "kernelspec": {
   "display_name": "twitter",
   "language": "python",
   "name": "twitter"
  },
  "language_info": {
   "codemirror_mode": {
    "name": "ipython",
    "version": 3
   },
   "file_extension": ".py",
   "mimetype": "text/x-python",
   "name": "python",
   "nbconvert_exporter": "python",
   "pygments_lexer": "ipython3",
   "version": "3.6.7"
  }
 },
 "nbformat": 4,
 "nbformat_minor": 2
}
