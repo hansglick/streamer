{
 "cells": [
  {
   "cell_type": "code",
   "execution_count": 104,
   "metadata": {},
   "outputs": [],
   "source": [
    "import pandas as pd\n",
    "import json\n",
    "import pickle\n",
    "import os\n",
    "import itertools\n",
    "from ast import literal_eval\n",
    "import numpy as np\n",
    "import sys\n",
    "from datetime import datetime\n",
    "from scipy import stats\n",
    "from IPython.display import clear_output, display\n",
    "import subprocess\n",
    "from datetime import datetime\n",
    "pd.options.display.float_format = '{:.0f}'.format"
   ]
  },
  {
   "cell_type": "code",
   "execution_count": 105,
   "metadata": {},
   "outputs": [],
   "source": [
    "import pandas as pd\n",
    "import numpy as np\n",
    "from spacy.lang.fr.stop_words import STOP_WORDS as fr_stop\n",
    "french_stopwords = list(fr_stop)\n",
    "from scipy import stats\n",
    "import math\n",
    "import string"
   ]
  },
  {
   "cell_type": "code",
   "execution_count": 106,
   "metadata": {},
   "outputs": [],
   "source": [
    "def LoadJsonFile(filename): \n",
    "    with open(filename, 'r') as f:\n",
    "        DicConfig = json.load(f)\n",
    "    return DicConfig\n",
    "\n",
    "\n",
    "def GlobalDicDeplier(OneDic):\n",
    "    for k,v in OneDic.items():\n",
    "        exec('globals()[k] = v')\n",
    "    return None"
   ]
  },
  {
   "cell_type": "code",
   "execution_count": 107,
   "metadata": {},
   "outputs": [
    {
     "name": "stdout",
     "output_type": "stream",
     "text": [
      "Chargement du fichier config\n",
      "\n"
     ]
    }
   ],
   "source": [
    "print(\"Chargement du fichier config\")\n",
    "DicConfig = LoadJsonFile(os.path.join(os.getcwd(),\"config.json\"))\n",
    "GlobalDicDeplier(DicConfig)\n",
    "sys.path.append(Root)\n",
    "from fun import *\n",
    "print(\"\")"
   ]
  },
  {
   "cell_type": "code",
   "execution_count": 108,
   "metadata": {},
   "outputs": [
    {
     "name": "stdout",
     "output_type": "stream",
     "text": [
      "Chargement des donnés\n",
      "\n"
     ]
    }
   ],
   "source": [
    "# LOAD DATA\n",
    "\n",
    "print(\"Chargement des donnés\")\n",
    "\n",
    "path = os.path.join(Root,FolderProject,\"FinalFam.pkl\")\n",
    "FinalFam = LoadPickleOrInit(path)\n",
    "\n",
    "path = os.path.join(Root,FolderProject,\"FinalInf.pkl\")\n",
    "FinalInf = LoadPickleOrInit(path)\n",
    "\n",
    "path = os.path.join(Root,FolderProject,\"gdic.pkl\")\n",
    "gdic = LoadPickleOrInit(path)\n",
    "\n",
    "path = os.path.join(Root,FolderProject,\"tfidf_DocsRepresentation.pkl\")\n",
    "DocsRep = LoadPickleOrInit(path)\n",
    "\n",
    "print(\"\")"
   ]
  },
  {
   "cell_type": "code",
   "execution_count": 130,
   "metadata": {},
   "outputs": [],
   "source": [
    "path = os.path.join(Root,FolderProject,\"tmdic.pkl\")\n",
    "tmdic = LoadPickleOrInit(path)"
   ]
  },
  {
   "cell_type": "code",
   "execution_count": 109,
   "metadata": {},
   "outputs": [],
   "source": [
    "path = os.path.join(Root,FolderProject,\"FinalFam.pkl\")\n",
    "FinalFam = LoadPickleOrInit(path)"
   ]
  },
  {
   "cell_type": "code",
   "execution_count": 110,
   "metadata": {},
   "outputs": [],
   "source": [
    "DocsRep.rename(columns = {\"f\":\"ndocs\",\"tweetid\":\"AUTHORTWEETID\"},inplace=True)"
   ]
  },
  {
   "cell_type": "code",
   "execution_count": null,
   "metadata": {},
   "outputs": [],
   "source": [
    "gdic"
   ]
  },
  {
   "cell_type": "code",
   "execution_count": 134,
   "metadata": {},
   "outputs": [
    {
     "data": {
      "text/plain": [
       "('2020-02-08 13:30:41', '2020-02-08 13:45:41')"
      ]
     },
     "execution_count": 134,
     "metadata": {},
     "output_type": "execute_result"
    }
   ],
   "source": [
    "tmdic[1581169541][\"start\"],tmdic[1581169541][\"end\"]"
   ]
  },
  {
   "cell_type": "code",
   "execution_count": 135,
   "metadata": {},
   "outputs": [],
   "source": [
    "d = {}"
   ]
  },
  {
   "cell_type": "code",
   "execution_count": 136,
   "metadata": {},
   "outputs": [],
   "source": [
    "d[\"nombre de places\"] = 4"
   ]
  },
  {
   "cell_type": "markdown",
   "metadata": {},
   "source": [
    "# Functions"
   ]
  },
  {
   "cell_type": "code",
   "execution_count": 111,
   "metadata": {},
   "outputs": [],
   "source": [
    "def LinksFromDicToDF(randomlinksdf):\n",
    "\n",
    "    L = []\n",
    "    for k,v in linksdf.items():\n",
    "        a = k[0]\n",
    "        b = k[1]\n",
    "        f = v\n",
    "        tempdic = {\"a\":a,\"b\":b,\"f\":f}\n",
    "        L.append(tempdic)\n",
    "\n",
    "    solution = pd.DataFrame(L)\n",
    "\n",
    "    return solution\n",
    "\n",
    "def SavingGraphToCsv(gdic):\n",
    "    \n",
    "    for k,v in gdic.items():\n",
    "        linkscsv = LinksFromDicToDF(v[\"links\"])\n",
    "        linkscsv.to_csv(\"graph\"+str(k)+\".csv\",index=False)\n",
    "        gdic[k][\"ondisk\"] = True\n",
    "    \n",
    "    return None"
   ]
  },
  {
   "cell_type": "code",
   "execution_count": 112,
   "metadata": {},
   "outputs": [],
   "source": [
    "# Write csv and save minor gdic modifications\n",
    "SavingGraphToCsv(gdic)"
   ]
  },
  {
   "cell_type": "code",
   "execution_count": 113,
   "metadata": {},
   "outputs": [],
   "source": [
    "PickleDump(os.path.join(Root,FolderProject,\"gdic.pkl\"),gdic)"
   ]
  },
  {
   "cell_type": "code",
   "execution_count": 114,
   "metadata": {},
   "outputs": [
    {
     "data": {
      "text/plain": [
       "dict_keys([1581128142, 1581129942, 1581131742, 1581133542, 1581135342, 1581137142, 1581138942, 1581140742, 1581142542, 1581144342, 1581146142, 1581147942, 1581149742, 1581151542, 1581153342, 1581155142, 1581156942, 1581158742, 1581160542, 1581162342, 1581164142, 1581165942, 1581167742, 1581169542, 1581171342, 1581174942, 1581178542, 1581182142, 1581185742, 1581189342, 1581192942, 1581196542, 1581200142, 1581203742, 1581207342, 1581210942, 1581214542, 1581218142, 1581221742, 1581225342, 1581228942, 1581232542, 1581236142, 1581239742, 1581243342, 1581246942, 1581250542, 1581254142, 1581257742, 1581261342])"
      ]
     },
     "execution_count": 114,
     "metadata": {},
     "output_type": "execute_result"
    }
   ],
   "source": [
    "gdic.keys()"
   ]
  },
  {
   "cell_type": "code",
   "execution_count": 129,
   "metadata": {},
   "outputs": [
    {
     "ename": "NameError",
     "evalue": "name 'tmdic' is not defined",
     "output_type": "error",
     "traceback": [
      "\u001b[0;31m---------------------------------------------------------------------------\u001b[0m",
      "\u001b[0;31mNameError\u001b[0m                                 Traceback (most recent call last)",
      "\u001b[0;32m<ipython-input-129-120444283e50>\u001b[0m in \u001b[0;36m<module>\u001b[0;34m\u001b[0m\n\u001b[0;32m----> 1\u001b[0;31m \u001b[0mtmdic\u001b[0m\u001b[0;34m[\u001b[0m\u001b[0;36m1581129942\u001b[0m\u001b[0;34m]\u001b[0m\u001b[0;34m.\u001b[0m\u001b[0mkeys\u001b[0m\u001b[0;34m(\u001b[0m\u001b[0;34m)\u001b[0m\u001b[0;34m\u001b[0m\u001b[0;34m\u001b[0m\u001b[0m\n\u001b[0m",
      "\u001b[0;31mNameError\u001b[0m: name 'tmdic' is not defined"
     ]
    }
   ],
   "source": [
    "tmdic[1581129942].keys()"
   ]
  },
  {
   "cell_type": "code",
   "execution_count": 115,
   "metadata": {},
   "outputs": [],
   "source": [
    "tstats = gdic[1581129942][\"informations\"]"
   ]
  },
  {
   "cell_type": "code",
   "execution_count": 116,
   "metadata": {},
   "outputs": [
    {
     "data": {
      "text/html": [
       "<div>\n",
       "<style scoped>\n",
       "    .dataframe tbody tr th:only-of-type {\n",
       "        vertical-align: middle;\n",
       "    }\n",
       "\n",
       "    .dataframe tbody tr th {\n",
       "        vertical-align: top;\n",
       "    }\n",
       "\n",
       "    .dataframe thead th {\n",
       "        text-align: right;\n",
       "    }\n",
       "</style>\n",
       "<table border=\"1\" class=\"dataframe\">\n",
       "  <thead>\n",
       "    <tr style=\"text-align: right;\">\n",
       "      <th></th>\n",
       "      <th>AUTHORTWEETID</th>\n",
       "      <th>AUTHORID</th>\n",
       "      <th>AUTHORTWEETUNIXEPOCH</th>\n",
       "      <th>f</th>\n",
       "    </tr>\n",
       "  </thead>\n",
       "  <tbody>\n",
       "    <tr>\n",
       "      <th>0</th>\n",
       "      <td>1225848150545575936</td>\n",
       "      <td>815648820310736896</td>\n",
       "      <td>1581103548</td>\n",
       "      <td>423</td>\n",
       "    </tr>\n",
       "    <tr>\n",
       "      <th>1</th>\n",
       "      <td>1225728427203931904</td>\n",
       "      <td>1116341677202059264</td>\n",
       "      <td>1581075004</td>\n",
       "      <td>196</td>\n",
       "    </tr>\n",
       "  </tbody>\n",
       "</table>\n",
       "</div>"
      ],
      "text/plain": [
       "        AUTHORTWEETID            AUTHORID  AUTHORTWEETUNIXEPOCH    f\n",
       "0 1225848150545575936  815648820310736896            1581103548  423\n",
       "1 1225728427203931904 1116341677202059264            1581075004  196"
      ]
     },
     "execution_count": 116,
     "metadata": {},
     "output_type": "execute_result"
    }
   ],
   "source": [
    "tstats.head(2)"
   ]
  },
  {
   "cell_type": "code",
   "execution_count": 117,
   "metadata": {},
   "outputs": [
    {
     "data": {
      "text/html": [
       "<div>\n",
       "<style scoped>\n",
       "    .dataframe tbody tr th:only-of-type {\n",
       "        vertical-align: middle;\n",
       "    }\n",
       "\n",
       "    .dataframe tbody tr th {\n",
       "        vertical-align: top;\n",
       "    }\n",
       "\n",
       "    .dataframe thead th {\n",
       "        text-align: right;\n",
       "    }\n",
       "</style>\n",
       "<table border=\"1\" class=\"dataframe\">\n",
       "  <thead>\n",
       "    <tr style=\"text-align: right;\">\n",
       "      <th></th>\n",
       "      <th>D</th>\n",
       "      <th>ndocs</th>\n",
       "      <th>idf</th>\n",
       "      <th>AUTHORTWEETID</th>\n",
       "      <th>word</th>\n",
       "    </tr>\n",
       "  </thead>\n",
       "  <tbody>\n",
       "    <tr>\n",
       "      <th>1376</th>\n",
       "      <td>1971</td>\n",
       "      <td>7</td>\n",
       "      <td>6</td>\n",
       "      <td>1226118823813812224</td>\n",
       "      <td>enfants</td>\n",
       "    </tr>\n",
       "    <tr>\n",
       "      <th>1734</th>\n",
       "      <td>1971</td>\n",
       "      <td>30</td>\n",
       "      <td>4</td>\n",
       "      <td>1226118823813812224</td>\n",
       "      <td>femme</td>\n",
       "    </tr>\n",
       "  </tbody>\n",
       "</table>\n",
       "</div>"
      ],
      "text/plain": [
       "         D  ndocs  idf       AUTHORTWEETID     word\n",
       "1376  1971      7    6 1226118823813812224  enfants\n",
       "1734  1971     30    4 1226118823813812224    femme"
      ]
     },
     "execution_count": 117,
     "metadata": {},
     "output_type": "execute_result"
    }
   ],
   "source": [
    "DocsRep.head(2)"
   ]
  },
  {
   "cell_type": "code",
   "execution_count": 118,
   "metadata": {},
   "outputs": [],
   "source": [
    "tempdf = tstats.merge(DocsRep,how=\"left\",on=\"AUTHORTWEETID\")"
   ]
  },
  {
   "cell_type": "code",
   "execution_count": 119,
   "metadata": {},
   "outputs": [
    {
     "data": {
      "text/plain": [
       "(815, 8)"
      ]
     },
     "execution_count": 119,
     "metadata": {},
     "output_type": "execute_result"
    }
   ],
   "source": [
    "tempdf.shape"
   ]
  },
  {
   "cell_type": "code",
   "execution_count": 120,
   "metadata": {},
   "outputs": [
    {
     "data": {
      "text/plain": [
       "(282, 4)"
      ]
     },
     "execution_count": 120,
     "metadata": {},
     "output_type": "execute_result"
    }
   ],
   "source": [
    "tstats.shape"
   ]
  },
  {
   "cell_type": "code",
   "execution_count": 121,
   "metadata": {},
   "outputs": [
    {
     "data": {
      "text/html": [
       "<div>\n",
       "<style scoped>\n",
       "    .dataframe tbody tr th:only-of-type {\n",
       "        vertical-align: middle;\n",
       "    }\n",
       "\n",
       "    .dataframe tbody tr th {\n",
       "        vertical-align: top;\n",
       "    }\n",
       "\n",
       "    .dataframe thead th {\n",
       "        text-align: right;\n",
       "    }\n",
       "</style>\n",
       "<table border=\"1\" class=\"dataframe\">\n",
       "  <thead>\n",
       "    <tr style=\"text-align: right;\">\n",
       "      <th></th>\n",
       "      <th>AUTHORTWEETID</th>\n",
       "      <th>AUTHORID</th>\n",
       "      <th>AUTHORTWEETUNIXEPOCH</th>\n",
       "      <th>f</th>\n",
       "      <th>D</th>\n",
       "      <th>ndocs</th>\n",
       "      <th>idf</th>\n",
       "      <th>word</th>\n",
       "    </tr>\n",
       "  </thead>\n",
       "  <tbody>\n",
       "    <tr>\n",
       "      <th>0</th>\n",
       "      <td>1225848150545575936</td>\n",
       "      <td>815648820310736896</td>\n",
       "      <td>1581103548</td>\n",
       "      <td>423</td>\n",
       "      <td>1971</td>\n",
       "      <td>11</td>\n",
       "      <td>5</td>\n",
       "      <td>migrant</td>\n",
       "    </tr>\n",
       "    <tr>\n",
       "      <th>1</th>\n",
       "      <td>1225848150545575936</td>\n",
       "      <td>815648820310736896</td>\n",
       "      <td>1581103548</td>\n",
       "      <td>423</td>\n",
       "      <td>1971</td>\n",
       "      <td>15</td>\n",
       "      <td>5</td>\n",
       "      <td>vrai</td>\n",
       "    </tr>\n",
       "    <tr>\n",
       "      <th>2</th>\n",
       "      <td>1225848150545575936</td>\n",
       "      <td>815648820310736896</td>\n",
       "      <td>1581103548</td>\n",
       "      <td>423</td>\n",
       "      <td>1971</td>\n",
       "      <td>19</td>\n",
       "      <td>5</td>\n",
       "      <td>petit</td>\n",
       "    </tr>\n",
       "  </tbody>\n",
       "</table>\n",
       "</div>"
      ],
      "text/plain": [
       "        AUTHORTWEETID           AUTHORID  AUTHORTWEETUNIXEPOCH    f    D  \\\n",
       "0 1225848150545575936 815648820310736896            1581103548  423 1971   \n",
       "1 1225848150545575936 815648820310736896            1581103548  423 1971   \n",
       "2 1225848150545575936 815648820310736896            1581103548  423 1971   \n",
       "\n",
       "   ndocs  idf     word  \n",
       "0     11    5  migrant  \n",
       "1     15    5     vrai  \n",
       "2     19    5    petit  "
      ]
     },
     "execution_count": 121,
     "metadata": {},
     "output_type": "execute_result"
    }
   ],
   "source": [
    "tempdf.head(3)"
   ]
  },
  {
   "cell_type": "code",
   "execution_count": 122,
   "metadata": {},
   "outputs": [
    {
     "data": {
      "text/html": [
       "<div>\n",
       "<style scoped>\n",
       "    .dataframe tbody tr th:only-of-type {\n",
       "        vertical-align: middle;\n",
       "    }\n",
       "\n",
       "    .dataframe tbody tr th {\n",
       "        vertical-align: top;\n",
       "    }\n",
       "\n",
       "    .dataframe thead th {\n",
       "        text-align: right;\n",
       "    }\n",
       "</style>\n",
       "<table border=\"1\" class=\"dataframe\">\n",
       "  <thead>\n",
       "    <tr style=\"text-align: right;\">\n",
       "      <th></th>\n",
       "      <th>AUTHORID</th>\n",
       "      <th>AUTHORTWEETCONTENT</th>\n",
       "      <th>AUTHORTWEETID</th>\n",
       "      <th>AUTHORTWEETUNIXEPOCH</th>\n",
       "      <th>status</th>\n",
       "    </tr>\n",
       "  </thead>\n",
       "  <tbody>\n",
       "    <tr>\n",
       "      <th>0</th>\n",
       "      <td>815648820310736896</td>\n",
       "      <td>C’est vrai que Charlie Hebdo ne s’est jamais m...</td>\n",
       "      <td>1225848150545575936</td>\n",
       "      <td>1581103548</td>\n",
       "      <td>ko</td>\n",
       "    </tr>\n",
       "    <tr>\n",
       "      <th>1</th>\n",
       "      <td>1116341677202059264</td>\n",
       "      <td>Mdr dis wAllah il est en train d’afficher son ...</td>\n",
       "      <td>1225728427203931904</td>\n",
       "      <td>1581075004</td>\n",
       "      <td>ko</td>\n",
       "    </tr>\n",
       "    <tr>\n",
       "      <th>2</th>\n",
       "      <td>1115888428556718080</td>\n",
       "      <td>Allah y hafdek = qu'Allah te garde \\n\\nAllah y...</td>\n",
       "      <td>1225861884466823168</td>\n",
       "      <td>1581106823</td>\n",
       "      <td>ko</td>\n",
       "    </tr>\n",
       "  </tbody>\n",
       "</table>\n",
       "</div>"
      ],
      "text/plain": [
       "             AUTHORID                                 AUTHORTWEETCONTENT  \\\n",
       "0  815648820310736896  C’est vrai que Charlie Hebdo ne s’est jamais m...   \n",
       "1 1116341677202059264  Mdr dis wAllah il est en train d’afficher son ...   \n",
       "2 1115888428556718080  Allah y hafdek = qu'Allah te garde \\n\\nAllah y...   \n",
       "\n",
       "        AUTHORTWEETID  AUTHORTWEETUNIXEPOCH status  \n",
       "0 1225848150545575936            1581103548     ko  \n",
       "1 1225728427203931904            1581075004     ko  \n",
       "2 1225861884466823168            1581106823     ko  "
      ]
     },
     "execution_count": 122,
     "metadata": {},
     "output_type": "execute_result"
    }
   ],
   "source": [
    "FinalFam.head(3)"
   ]
  },
  {
   "cell_type": "code",
   "execution_count": 123,
   "metadata": {},
   "outputs": [],
   "source": [
    "tempdf = tempdf.merge(FinalFam[[\"AUTHORTWEETID\",\"AUTHORTWEETCONTENT\"]],on=\"AUTHORTWEETID\")"
   ]
  },
  {
   "cell_type": "code",
   "execution_count": 125,
   "metadata": {},
   "outputs": [
    {
     "data": {
      "text/plain": [
       "17"
      ]
     },
     "execution_count": 125,
     "metadata": {},
     "output_type": "execute_result"
    }
   ],
   "source": [
    "len(tempdf[tempdf.D.isna()])"
   ]
  },
  {
   "cell_type": "code",
   "execution_count": null,
   "metadata": {},
   "outputs": [],
   "source": []
  },
  {
   "cell_type": "code",
   "execution_count": 99,
   "metadata": {},
   "outputs": [
    {
     "data": {
      "text/plain": [
       "\"Bon week-end à tous\\n#Kebetu @TeamRepublicain \\nqu'Allah protège notre cher Pays :#Senegal\""
      ]
     },
     "execution_count": 99,
     "metadata": {},
     "output_type": "execute_result"
    }
   ],
   "source": [
    "tempdf.AUTHORTWEETCONTENT.loc[814]"
   ]
  },
  {
   "cell_type": "code",
   "execution_count": null,
   "metadata": {},
   "outputs": [],
   "source": [
    "1225907002108497920"
   ]
  }
 ],
 "metadata": {
  "kernelspec": {
   "display_name": "twitter",
   "language": "python",
   "name": "twitter"
  },
  "language_info": {
   "codemirror_mode": {
    "name": "ipython",
    "version": 3
   },
   "file_extension": ".py",
   "mimetype": "text/x-python",
   "name": "python",
   "nbconvert_exporter": "python",
   "pygments_lexer": "ipython3",
   "version": "3.6.7"
  }
 },
 "nbformat": 4,
 "nbformat_minor": 2
}
